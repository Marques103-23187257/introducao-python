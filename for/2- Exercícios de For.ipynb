{
 "cells": [
  {
   "cell_type": "markdown",
   "metadata": {},
   "source": [
    "# Exercícios\n",
    "\n",
    "## 1. Calculando % de uma lista\n",
    "\n",
    "Faremos algo parecido com \"filtrar\" uma lista. Mais pra frente no curso aprenderemos outras formas de fazer isso, mas com o nosso conhecimentoa atual já conseguimos resolver o desafio.\n",
    "\n",
    "Digamos que a gente tenha uma lista de vendedores e ao invés de saber todos os vendedores que bateram a meta, eu quero conseguir calcular o % de vendedores que bateram a meta. Ou seja, se temos 10 vendedores e 3 bateram a meta, temos 30% dos vendedores que bateram a meta."
   ]
  },
  {
   "cell_type": "code",
   "execution_count": 10,
   "metadata": {},
   "outputs": [
    {
     "name": "stdout",
     "output_type": "stream",
     "text": [
      "['João', 15000, 'Julia', 27000, 'Ana', 10300]\n",
      "Dentre todos os vendedores, 100.0% atingiram a meta do mes.\n"
     ]
    }
   ],
   "source": [
    "meta = 10000\n",
    "vendas = [\n",
    "    ['João', 15000],\n",
    "    ['Julia', 27000],\n",
    "    ['Marcus', 9900],\n",
    "    ['Maria', 3750],\n",
    "    ['Ana', 10300],\n",
    "    ['Alon', 7870],\n",
    "]\n",
    "#seu código aqui\n",
    "\n",
    "atingiu_meta = []\n",
    "\n",
    "for i, venda in enumerate(vendas) :\n",
    "    if vendas [i] [1] >= meta :\n",
    "        atingiu_meta.extend(venda)\n",
    "    else :\n",
    "        pass\n",
    "\n",
    "print(atingiu_meta)\n",
    "porcentagem = str(len(atingiu_meta) / len(vendas) * 100) + '%'\n",
    "\n",
    "print('Dentre todos os vendedores, {} atingiram a meta do mes.'.format(porcentagem))"
   ]
  },
  {
   "cell_type": "markdown",
   "metadata": {},
   "source": [
    "- Vamos resolver de 2 formas:\n",
    "    1. Criando uma lista auxiliar apenas com os vendedores que bateram a meta\n",
    "    2. Fazendo o cálculo diretamente na lista que já temos"
   ]
  },
  {
   "cell_type": "markdown",
   "metadata": {},
   "source": [
    "## Para treinar uma estrutura parecida, crie um código para responder: quem foi o vendedor que mais vendeu?"
   ]
  },
  {
   "cell_type": "code",
   "execution_count": 25,
   "metadata": {},
   "outputs": [
    {
     "name": "stdout",
     "output_type": "stream",
     "text": [
      "O(a) vendedor(a) que mais vendeu foi Julia com o total de R$27000.\n"
     ]
    }
   ],
   "source": [
    "#seu código aqui\n",
    "\n",
    "mais_vendeu = []\n",
    "\n",
    "for j, funcionario in enumerate(vendas) :\n",
    "    if vendas [j - 1] [1] < vendas [j] [1]:\n",
    "        mais_vendeu.append(funcionario)\n",
    "    else :\n",
    "        continue\n",
    "\n",
    "print('O(a) vendedor(a) que mais vendeu foi {} com o total de R${}.'.format(max(mais_vendeu) [0], max(mais_vendeu) [1]))"
   ]
  }
 ],
 "metadata": {
  "kernelspec": {
   "display_name": "Python 3",
   "language": "python",
   "name": "python3"
  },
  "language_info": {
   "codemirror_mode": {
    "name": "ipython",
    "version": 3
   },
   "file_extension": ".py",
   "mimetype": "text/x-python",
   "name": "python",
   "nbconvert_exporter": "python",
   "pygments_lexer": "ipython3",
   "version": "3.11.3"
  }
 },
 "nbformat": 4,
 "nbformat_minor": 4
}
