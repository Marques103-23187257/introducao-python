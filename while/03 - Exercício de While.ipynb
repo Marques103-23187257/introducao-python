{
 "cells": [
  {
   "cell_type": "markdown",
   "metadata": {},
   "source": [
    "# Exercícios\n",
    "\n",
    "## 1. Input até o usuário parar\n",
    "\n",
    "Vamos criar um sistema de vendas. Nosso programa deve registrar os produtos e as quantidades (2 inputs) e adicionar em uma lista.\n",
    "\n",
    "O programa deve continuar rodando até o input ser vazio, ou seja, o usuário apertar enter sem digitar nenhum produto ou quantidade.\n",
    "\n",
    "Ao final do programa, ele deve printar todos os produtos e quantidades vendidas.\n",
    "\n",
    "Obs: Caso queira, para o print ficar mais visual, pode usar o join para cada item ser printado em uma linha.\n",
    "Sugestão para sua lista de produtos vendidos:"
   ]
  },
  {
   "cell_type": "raw",
   "metadata": {},
   "source": [
    "vendas = [\n",
    "    ['maçã', 5],\n",
    "    ['banana', 15],\n",
    "    ['azeite', 1],\n",
    "    ['vinho', 3],\n",
    "]"
   ]
  },
  {
   "cell_type": "code",
   "execution_count": 1,
   "metadata": {},
   "outputs": [
    {
     "name": "stdout",
     "output_type": "stream",
     "text": [
      "[['calça', 10]]\n"
     ]
    }
   ],
   "source": [
    "#seu código aqui\n",
    "\n",
    "produtos = []\n",
    "\n",
    "produto = input('insira o nome do produto.')\n",
    "\n",
    "while produto != '' :\n",
    "\n",
    "    \n",
    "    qtde_produto = int(input('Insira a quantidade do produto.'))\n",
    "\n",
    "    # registrar =[produto, qtde_produto]\n",
    "\n",
    "    produtos.append([produto, qtde_produto])\n",
    "    produto = input('insira o nome do produto.')\n",
    "\n",
    "print(produtos)\n",
    "\n"
   ]
  },
  {
   "cell_type": "code",
   "execution_count": 10,
   "metadata": {},
   "outputs": [
    {
     "name": "stdout",
     "output_type": "stream",
     "text": [
      "[['pa', '10']]\n"
     ]
    }
   ],
   "source": [
    "#seu código aqui\n",
    "\n",
    "produtos = []\n",
    "\n",
    "\n",
    "while True :\n",
    "    \n",
    "    produto = input('insira o nome do produto.')\n",
    "    \n",
    "    if produto != '' :\n",
    "\n",
    "        qtde_produto = input('Insira a quantidade do produto.')\n",
    "\n",
    "        if qtde_produto.isnumeric() != False:\n",
    "\n",
    "            produtos.append([produto, qtde_produto])\n",
    "\n",
    "        else :\n",
    "\n",
    "            break\n",
    "    \n",
    "    else :\n",
    "\n",
    "        break\n",
    "        \n",
    "\n",
    "print(produtos)"
   ]
  },
  {
   "cell_type": "markdown",
   "metadata": {},
   "source": [
    "### Obs: Podemos fazer o While de 2 maneiras:\n",
    "\n",
    "1. While com a condição que finalize o programa\n",
    "2. While rodando para sempre, mas com uma condição dentro do while que dê um break no código.\n",
    "\n",
    "Vamos mostrar as 2 opções"
   ]
  }
 ],
 "metadata": {
  "kernelspec": {
   "display_name": "Python 3",
   "language": "python",
   "name": "python3"
  },
  "language_info": {
   "codemirror_mode": {
    "name": "ipython",
    "version": 3
   },
   "file_extension": ".py",
   "mimetype": "text/x-python",
   "name": "python",
   "nbconvert_exporter": "python",
   "pygments_lexer": "ipython3",
   "version": "3.11.3"
  }
 },
 "nbformat": 4,
 "nbformat_minor": 4
}
