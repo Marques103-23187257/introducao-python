{
  "cells": [
    {
      "cell_type": "markdown",
      "metadata": {
        "id": "7cSjkBggT5jc"
      },
      "source": [
        "# **Exercício 1:**\n",
        "\n",
        "---\n",
        "\n",
        "Faça um programa que calcule a raiz quadrada de um número inteiro fornecido pelo usuário. Utilize a biblioteca math para realizar o cálculo."
      ]
    },
    {
      "cell_type": "code",
      "execution_count": 3,
      "metadata": {
        "id": "Z_bnJxYGT0_o"
      },
      "outputs": [
        {
          "name": "stdout",
          "output_type": "stream",
          "text": [
            "A raiz quadrada de 16.0 é: 4.0\n"
          ]
        }
      ],
      "source": [
        "import math\n",
        "\n",
        "num = float(input('Digite um numero'))\n",
        "raiz = math.sqrt(num)\n",
        "print(f'A raiz quadrada de {num} é: {raiz}')"
      ]
    },
    {
      "cell_type": "markdown",
      "metadata": {
        "id": "Sa1-LWktUG_z"
      },
      "source": [
        "# **Exercício 2:**\n",
        "\n",
        "---\n",
        "\n",
        "Crie um programa que gere um número aleatório entre 1 e 100 e peça ao usuário para adivinhar qual é esse número. Utilize a biblioteca random para gerar o número aleatório."
      ]
    },
    {
      "cell_type": "code",
      "execution_count": 2,
      "metadata": {
        "id": "9iOJpg0_ULDC"
      },
      "outputs": [
        {
          "name": "stdout",
          "output_type": "stream",
          "text": [
            "tente um numero maior\n",
            "tente um numero menor\n",
            "tente um numero maior\n",
            "tente um numero maior\n",
            "Voce acertou!!\n",
            " O numero era 40.\n",
            " Tentativas: 4\n"
          ]
        }
      ],
      "source": [
        "import random\n",
        "\n",
        "numero = random.randint(0, 100)\n",
        "tentativa = 0\n",
        "while True :\n",
        "    palpite = int(input('Digite um numero: '))\n",
        "    if palpite < numero :\n",
        "        print('tente um numero maior')\n",
        "        tentativa += 1\n",
        "    elif palpite > numero:\n",
        "        print('tente um numero menor')\n",
        "        tentativa += 1\n",
        "    else:\n",
        "        print(f'Voce acertou!!\\n O numero era {numero}.\\n Tentativas: {tentativa}')\n",
        "        break\n",
        "\n"
      ]
    },
    {
      "cell_type": "markdown",
      "metadata": {
        "id": "vrAwGLX3UXLq"
      },
      "source": [
        "# **Exercício 3:**\n",
        "\n",
        "---\n",
        "Crie um programa que simule um lançamento de dados. O programa deve gerar um número aleatório entre 1 e 6, representando o valor do dado. Utilizar função randint da biblioteca random"
      ]
    },
    {
      "cell_type": "code",
      "execution_count": 4,
      "metadata": {
        "id": "h2MVf6arUdtz"
      },
      "outputs": [
        {
          "name": "stdout",
          "output_type": "stream",
          "text": [
            "5\n"
          ]
        }
      ],
      "source": [
        "import random as rdm\n",
        "\n",
        "jogar = input('Aperte enter')\n",
        "while jogar != 'n' :\n",
        "    numero = rdm.randint(1, 6)\n",
        "    print(numero)\n",
        "    jogar = input('Jogar de novo, \"s\" ou \"n\"?')\n"
      ]
    },
    {
      "cell_type": "markdown",
      "metadata": {
        "id": "RA7LpHIHUgcT"
      },
      "source": [
        "# **Exercício 4:**\n",
        "\n",
        "---\n",
        "Faça um programa que calcule a área de um círculo. O usuário deve fornecer o raio do círculo como entrada. Utilize a biblioteca math para obter o valor de π (pi)."
      ]
    },
    {
      "cell_type": "code",
      "execution_count": 4,
      "metadata": {
        "colab": {
          "base_uri": "https://localhost:8080/"
        },
        "id": "P5X-NK9gUmJT",
        "outputId": "f9a9a301-c690-444f-feb2-7aa5a3695429"
      },
      "outputs": [
        {
          "name": "stdout",
          "output_type": "stream",
          "text": [
            "78.54\n"
          ]
        }
      ],
      "source": [
        "import math\n",
        "\n",
        "pi = math.radians(180)\n",
        "\n",
        "r = int(input('Digite o valor do raio'))\n",
        "\n",
        "area = pi * (r ** 2)\n",
        "\n",
        "print(round(area, 2))"
      ]
    },
    {
      "cell_type": "markdown",
      "metadata": {
        "id": "8hhvsHCOUn9T"
      },
      "source": [
        "# **Exercício 5:**\n",
        "\n",
        "---\n",
        "Crie um programa que solicite ao usuário um nome de arquivo e, em seguida, leia o conteúdo desse arquivo e conte quantas palavras diferentes existem no texto. Utilize Counter da biblioteca collections para ajudar na contagem.\n",
        "\n",
        "python\n",
        "C"
      ]
    },
    {
      "cell_type": "code",
      "execution_count": 15,
      "metadata": {
        "id": "01QBl5HWU2xj"
      },
      "outputs": [
        {
          "name": "stdout",
          "output_type": "stream",
          "text": [
            "Na musica \"Negro Drama\" existem um total de 543 palavras diferentes\n"
          ]
        }
      ],
      "source": [
        "from collections import Counter\n",
        "\n",
        "with open(\"Negro drama.txt\", \"r\" , encoding=\"utf-8\") as file :\n",
        "    conteudo = file.read()\n",
        "    lista = conteudo.split()\n",
        "    contagem = len(Counter(lista))\n",
        "\n",
        "    print(f'Na musica \"Negro Drama\" existem um total de {contagem} palavras diferentes')\n",
        "\n"
      ]
    },
    {
      "cell_type": "markdown",
      "metadata": {
        "id": "-xrV_RJ9U_g7"
      },
      "source": [
        "# **Exercício 6:**\n",
        "\n",
        "---\n",
        "Crie um programa que solicite ao usuário uma lista de números separados por vírgula e exiba a média desses números. Utilize a função mean da biblioteca statistics."
      ]
    },
    {
      "cell_type": "code",
      "execution_count": 17,
      "metadata": {
        "id": "0gGOdi8mVFAL"
      },
      "outputs": [
        {
          "name": "stdout",
          "output_type": "stream",
          "text": [
            "5.8\n"
          ]
        }
      ],
      "source": [
        "from statistics import mean\n",
        "\n",
        "numeros = [5, 8, 7, 1, 8]\n",
        "\n",
        "print(mean(numeros))"
      ]
    },
    {
      "cell_type": "markdown",
      "metadata": {
        "id": "CO26JglHXDPs"
      },
      "source": [
        "# **Exercício 7:**\n",
        "\n",
        "---\n",
        "Crie um programa usando a biblioteca tkinter que exiba uma janela com um botão. Quando o botão for clicado, exiba uma mensagem de saudação usando a função messagebox.showinfo().\n"
      ]
    },
    {
      "cell_type": "code",
      "execution_count": 10,
      "metadata": {},
      "outputs": [],
      "source": [
        "from tkinter import *\n",
        "from tkinter import messagebox\n",
        "\n",
        "menu = Tk()\n",
        "menu.title('menu')\n",
        "menu.geometry('200x200')\n",
        "menu.config(bg='red')\n",
        "\n",
        "def mostrarMsg() :\n",
        "    messagebox.showinfo(title='Atenção!!!!!!', message='Vai Corinthians🦅!')\n",
        "\n",
        "Button(menu, text='Pressione', command=mostrarMsg).pack(padx=50, pady=50) \n",
        "\n",
        "menu.mainloop()"
      ]
    },
    {
      "cell_type": "markdown",
      "metadata": {
        "id": "0raBCu6fXafW"
      },
      "source": [
        "# **Exercício 8:**\n",
        "\n",
        "---\n",
        "Crie um programa usando a biblioteca tkinter que exiba uma janela com um rótulo de texto e um campo de entrada. Quando o botão for clicado, obtenha o texto do campo de entrada usando a função .get() e exiba uma mensagem de boas-vindas personalizada usando a função messagebox.showinfo().\n"
      ]
    },
    {
      "cell_type": "code",
      "execution_count": 4,
      "metadata": {
        "id": "UgiISJlkXexi"
      },
      "outputs": [],
      "source": [
        "from tkinter import *\n",
        "from tkinter import messagebox\n",
        "\n",
        "app = Tk()\n",
        "app.title('Login')\n",
        "app.geometry('300x250')\n",
        "app.config(bg='#836FFF')\n",
        "\n",
        "usuario_var = StringVar()\n",
        "senha_var = StringVar()\n",
        "\n",
        "def enviar() :\n",
        "    usuario = usuario_var.get()\n",
        "    senha = senha_var.get()\n",
        "    messagebox.showinfo('Mostrar', f'Seu nome: {usuario}\\nSua senha: {senha}')  \n",
        "\n",
        "    usuario_var.set('')\n",
        "    senha_var.set('')\n",
        "\n",
        "Label(app, text='Usuario: ', font=('arial', 12, 'bold'), bg= '#836FFF').grid(row=0, column=0)\n",
        "Entry(app, textvariable=usuario_var, font=('arial', 12, 'normal')).grid(row=0, column=1)\n",
        "\n",
        "Label(app, text='Senha: ', font=('arial', 12, 'bold'), bg= '#836FFF').grid(row=1, column=0)\n",
        "Entry(app, textvariable=senha_var, font=('arial', 12, 'normal'), show='*').grid(row=1, column=1)\n",
        "\n",
        "Button(app, text='Enviar', command=enviar).grid(row=2, column=0)\n",
        "\n",
        "app.mainloop()"
      ]
    },
    {
      "cell_type": "markdown",
      "metadata": {
        "id": "0NytGTyOXjtD"
      },
      "source": [
        "# **Exercício 9:**\n",
        "\n",
        "---\n",
        "Crie um programa usando a biblioteca tkinter que exiba uma janela com uma caixa de seleção e um botão. Quando o botão for clicado, obtenha a opção selecionada da caixa de seleção usando a variável associada e exiba-a em uma caixa de diálogo usando a função messagebox.showinfo()."
      ]
    },
    {
      "cell_type": "code",
      "execution_count": 1,
      "metadata": {
        "id": "n7LtC33EXpuy"
      },
      "outputs": [],
      "source": [
        "from tkinter import *\n",
        "from tkinter import messagebox\n",
        "\n",
        "def mostraSeleção() :\n",
        "    opçao = caixa.get()\n",
        "    messagebox.showinfo('Seleção', f'Voçê selecionou: {opçao}')\n",
        "\n",
        "\n",
        "app = Tk()\n",
        "app.title('App')\n",
        "app.geometry('300x250')\n",
        "app.config(bg='#836FFF')\n",
        "\n",
        "opçoes = ['Opção 1', 'Opção 2', 'Opção 3']\n",
        "\n",
        "caixa = StringVar()\n",
        "caixa.set(opçoes[0])\n",
        "\n",
        "OptionMenu(app, caixa, *opçoes).pack()\n",
        "\n",
        "Button(app, text='Enviar', command=mostraSeleção).pack()\n",
        "\n",
        "app.mainloop()\n",
        "\n"
      ]
    },
    {
      "cell_type": "markdown",
      "metadata": {
        "id": "qoozLEBUZeDa"
      },
      "source": [
        "# **Exercício 10:**\n",
        "\n",
        "---\n",
        "Crie um programa que utilize a biblioteca pandas para ler um arquivo CSV chamado \"dados.csv\". O arquivo contém uma coluna chamada \"idade\". Calcule a média das idades utilizando o método .mean() e exiba o resultado.\n",
        "\n",
        "[Link para a Documentação do Pandas](https://pandas.pydata.org/docs/reference/api/pandas.read_csv.html)\n"
      ]
    },
    {
      "cell_type": "code",
      "execution_count": 18,
      "metadata": {
        "id": "56Mo2YGCZjg5"
      },
      "outputs": [
        {
          "name": "stdout",
          "output_type": "stream",
          "text": [
            "A media de idades registrada é: 44.00\n"
          ]
        }
      ],
      "source": [
        "from pandas import *\n",
        "from statistics import mean\n",
        "\n",
        "arquivo = read_csv('dados.csv')\n",
        "\n",
        "media = arquivo['idades'].mean()\n",
        "\n",
        "print(f'A media de idades registrada é: {media:0.2f}')"
      ]
    },
    {
      "cell_type": "markdown",
      "metadata": {
        "id": "CrGJ4bNpZkl5"
      },
      "source": [
        "# **Exercício 11:**\n",
        "\n",
        "---\n",
        "Crie um programa que utilize as bibliotecas pandas e matplotlib para ler um arquivo CSV chamado \"dados.csv\". O arquivo contém duas colunas: \"nome\" e \"pontuacao\". Exiba um gráfico de barras utilizando o método .bar() do matplotlib.pyplot, passando os nomes como valores no eixo x e as pontuações como valores no eixo y.\n",
        "\n",
        "[Link para a Documentação do Pandas](https://pandas.pydata.org/docs/reference/api/pandas.read_csv.html)\n",
        "\n",
        "[Link para a documentação do matplotlib](https://matplotlib.org/stable/api/_as_gen/matplotlib.pyplot.bar.html)"
      ]
    },
    {
      "cell_type": "code",
      "execution_count": 3,
      "metadata": {
        "id": "fX2Psu7AaNBT"
      },
      "outputs": [
        {
          "data": {
            "image/png": "[encoded data removed]",
            "text/plain": [
              "<Figure size 640x480 with 1 Axes>"
            ]
          },
          "metadata": {},
          "output_type": "display_data"
        }
      ],
      "source": [
        "from pandas import *\n",
        "import matplotlib.pyplot as plt\n",
        "\n",
        "arquivo = read_csv('dados.csv')\n",
        "\n",
        "plt.bar(arquivo['nomes'], arquivo['pontuação'], color = 'pink')\n",
        "\n",
        "plt.xlabel('pontuação')\n",
        "plt.ylabel('nomes')\n",
        "plt.title(\"Pontuações dos Alunos\") \n",
        "plt.xticks(rotation=45)\n",
        "plt.tight_layout()\n",
        "\n",
        "plt.show()\n"
      ]
    }
  ],
  "metadata": {
    "colab": {
      "provenance": []
    },
    "kernelspec": {
      "display_name": "Python 3",
      "name": "python3"
    },
    "language_info": {
      "codemirror_mode": {
        "name": "ipython",
        "version": 3
      },
      "file_extension": ".py",
      "mimetype": "text/x-python",
      "name": "python",
      "nbconvert_exporter": "python",
      "pygments_lexer": "ipython3",
      "version": "3.11.3"
    }
  },
  "nbformat": 4,
  "nbformat_minor": 0
}
