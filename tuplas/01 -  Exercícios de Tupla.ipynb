{
 "cells": [
  {
   "cell_type": "markdown",
   "metadata": {},
   "source": [
    "# Exercícios\n",
    "\n",
    "São exercícios bem parecidos com os que fizemos com listas. Mas na tupla, podemos não só trabalhar com índices, mas fazer o \"unpacking\" das tuplas, o que pode facilitar nossos códigos.\n",
    "\n",
    "## 1. Análise de Vendas\n",
    "\n",
    "Nesse exercício vamos fazer uma \"análise simples\" de atingimento de Meta.\n",
    "\n",
    "Temos uma lista com os vendedores e os valores de vendas e queremos identificar (printar) quais os vendedores que bateram a meta e qual foi o valor que eles venderam."
   ]
  },
  {
   "cell_type": "code",
   "execution_count": 5,
   "metadata": {},
   "outputs": [
    {
     "name": "stdout",
     "output_type": "stream",
     "text": [
      "[('João', 15000), ('Julia', 27000), ('Ana', 10300)]\n"
     ]
    }
   ],
   "source": [
    "meta = 10000\n",
    "vendas = [\n",
    "    ('João', 15000),\n",
    "    ('Julia', 27000),\n",
    "    ('Marcus', 9900),\n",
    "    ('Maria', 3750),\n",
    "    ('Ana', 10300),\n",
    "    ('Alon', 7870),\n",
    "]\n",
    "\n",
    "\n",
    "atingiu_meta = []\n",
    "\n",
    "for venda in vendas :\n",
    "    if venda [1] >= meta :\n",
    "        atingiu_meta.append(venda)\n",
    "    else :\n",
    "        pass\n",
    "\n",
    "print(atingiu_meta)"
   ]
  },
  {
   "cell_type": "markdown",
   "metadata": {},
   "source": [
    "## 2. Comparação com Ano Anterior\n",
    "\n",
    "Digamos que você está analisando as vendas de produtos de um ecommerce e quer identificar quais produtos tiveram no ano de 2020 mais vendas do que no ano de 2019, para reportar isso para a diretoria.\n",
    "\n",
    "Sua resposta pode ser um print de cada produto, qual foi a venda de 2019, a venda de 2020 e o % de crescimento de 2020 para 2019.\n",
    "\n",
    "Lembrando, para calcular o % de crescimento de um produto de um ano para o outro, podemos fazer: (vendas_produto2020/vendas_produto2019 - 1)\n",
    "\n",
    "A lógica da tupla é: (produto, vendas2019, vendas2020)"
   ]
  },
  {
   "cell_type": "code",
   "execution_count": 12,
   "metadata": {},
   "outputs": [
    {
     "name": "stdout",
     "output_type": "stream",
     "text": [
      "As venda de iphone de 2020 aumentou em 0.71% em comparação a 2019\n",
      "As venda de galaxy de 2020 diminuiu em 0.66% em comparação a 2019\n",
      "As venda de ipad de 2020 diminuiu em 0.95% em comparação a 2019\n",
      "As venda de tv de 2020 aumentou em 0.94% em comparação a 2019\n",
      "As venda de máquina de café de 2020 aumentou em 0.21% em comparação a 2019\n",
      "As venda de kindle de 2020 diminuiu em 0.85% em comparação a 2019\n",
      "As venda de geladeira de 2020 diminuiu em 0.27% em comparação a 2019\n",
      "As venda de adega de 2020 diminuiu em 0.28% em comparação a 2019\n",
      "As venda de notebook dell de 2020 aumentou em 0.64% em comparação a 2019\n",
      "As venda de notebook hp de 2020 aumentou em 2.49% em comparação a 2019\n",
      "As venda de notebook asus de 2020 diminuiu em 0.63% em comparação a 2019\n",
      "As venda de microsoft surface de 2020 aumentou em 0.52% em comparação a 2019\n",
      "As venda de webcam de 2020 aumentou em 0.24% em comparação a 2019\n",
      "As venda de caixa de som de 2020 aumentou em 0.48% em comparação a 2019\n",
      "As venda de microfone de 2020 aumentou em 0.96% em comparação a 2019\n",
      "As venda de câmera canon de 2020 aumentou em 0.68% em comparação a 2019\n"
     ]
    }
   ],
   "source": [
    "vendas_produtos = [('iphone', 558147, 951642), ('galaxy', 712350, 244295), ('ipad', 573823, 26964), ('tv', 405252, 787604), ('máquina de café', 718654, 867660), ('kindle', 531580, 78830), ('geladeira', 973139, 710331), ('adega', 892292, 646016), ('notebook dell', 422760, 694913), ('notebook hp', 154753, 539704), ('notebook asus', 887061, 324831), ('microsoft surface', 438508, 667179), ('webcam', 237467, 295633), ('caixa de som', 489705, 725316), ('microfone', 328311, 644622), ('câmera canon', 591120, 994303)]\n",
    "\n",
    "#seu código aqui\n",
    "\n",
    "for venda in vendas_produtos :\n",
    "    porcentagem = str(round(venda [2] / venda [1] - 1, 2)) + '%'\n",
    "    # porcentagem = venda [2], venda [1]\n",
    "    \n",
    "    if '-' in porcentagem :\n",
    "        mensagem = 'diminuiu'\n",
    "    else :\n",
    "        mensagem = 'aumentou'\n",
    "\n",
    "    porcentagem = porcentagem.replace('-', '')\n",
    "\n",
    "    print('As venda de {} de 2020 {} em {} em comparação a 2019'.format(venda[0], mensagem, porcentagem))"
   ]
  }
 ],
 "metadata": {
  "kernelspec": {
   "display_name": "Python 3",
   "language": "python",
   "name": "python3"
  },
  "language_info": {
   "codemirror_mode": {
    "name": "ipython",
    "version": 3
   },
   "file_extension": ".py",
   "mimetype": "text/x-python",
   "name": "python",
   "nbconvert_exporter": "python",
   "pygments_lexer": "ipython3",
   "version": "3.11.3"
  }
 },
 "nbformat": 4,
 "nbformat_minor": 4
}
