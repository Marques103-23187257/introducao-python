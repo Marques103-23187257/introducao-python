{
 "cells": [
  {
   "cell_type": "markdown",
   "id": "d6fa79c4",
   "metadata": {},
   "source": [
    "# Exercícios de Introdução às Funções em Python"
   ]
  },
  {
   "cell_type": "markdown",
   "id": "6ea92414",
   "metadata": {},
   "source": [
    "######  . . . . .  . . . . . . . . . . . . . . . . . . . . . ..  . . . ..  .. .  ..  . . . . ..  . . . . . .. .  . . . . . . . . . ..  . .. .  . . .. . ..  .. .  . . . . . . . . .. . .  .. . . . . . .. . . . . . . . . . . . . . . . .. . . . . . .. \n",
    ".\n",
    "..\n",
    ".\n",
    "..\n",
    ".\n",
    "..\n",
    ".\n",
    "..\n"
   ]
  },
  {
   "cell_type": "markdown",
   "id": "66043de7",
   "metadata": {},
   "source": [
    "## Introdução ao uso de funções em Python. Funções são blocos de código que nos permitem organizar e reutilizar tarefas em nossos programas. Elas são uma parte fundamental da programação e nos ajudam a escrever código mais limpo, eficiente e modular.\n",
    "\n",
    "## Para praticar o que aprendemos, temos uma série de exercícios que envolvem o uso de funções básicas para realizar cálculos simples. Vocês deverão criar funções que resolvam os problemas propostos. Lembre-se de usar nomes significativos para suas funções e variáveis, para que o código seja claro e compreensível."
   ]
  },
  {
   "cell_type": "markdown",
   "id": "a7f6647f",
   "metadata": {},
   "source": [
    "## Exercício 1: Calcular a área de um retângulo\n",
    "### Situação Problema: Você está construindo um jardim retangular em sua casa. A largura do jardim é 5 metros e o comprimento é 8 metros. Qual é a área total do jardim?"
   ]
  },
  {
   "cell_type": "code",
   "execution_count": 2,
   "id": "931944a6",
   "metadata": {},
   "outputs": [
    {
     "name": "stdout",
     "output_type": "stream",
     "text": [
      "50.0\n"
     ]
    }
   ],
   "source": [
    "#seu codigo aqui!\n",
    "def areaTriangulo() :\n",
    "    b = float(input('Digite o comprimento da base do triangulo: '))\n",
    "    h = float(input('Digite a altura do triangulo: '))\n",
    "    return print((b * h) / 2)\n",
    "\n",
    "areaTriangulo()"
   ]
  },
  {
   "cell_type": "markdown",
   "id": "f9684318",
   "metadata": {},
   "source": [
    "## Exercício 2: Calcular o quadrado de um número\n",
    "### Situação Problema: Você está medindo o lado de um quadrado. O lado mede 6 metros. Qual é a área desse quadrado?"
   ]
  },
  {
   "cell_type": "code",
   "execution_count": 4,
   "id": "12546b18",
   "metadata": {},
   "outputs": [
    {
     "name": "stdout",
     "output_type": "stream",
     "text": [
      "100.0\n"
     ]
    }
   ],
   "source": [
    "#seu codigo aqui!\n",
    "\n",
    "def areaQuadrado():\n",
    "    l = float(input('Digite o valor de um lado do triangulo'))\n",
    "    return print(l ** 2)\n",
    "\n",
    "areaQuadrado()"
   ]
  },
  {
   "cell_type": "markdown",
   "id": "3f96f770",
   "metadata": {},
   "source": [
    "## Exercício 3: Converter Celsius para Fahrenheit\n",
    "### Situação Problema: Você está em um país onde a temperatura é medida em Fahrenheit. A temperatura atual é 25 graus Celsius. Qual é a temperatura equivalente em Fahrenheit?"
   ]
  },
  {
   "cell_type": "code",
   "execution_count": 6,
   "id": "c1923918",
   "metadata": {},
   "outputs": [
    {
     "name": "stdout",
     "output_type": "stream",
     "text": [
      "77.0\n"
     ]
    }
   ],
   "source": [
    "#seu codigo aqui!\n",
    "\n",
    "def converterFahrenheit() :\n",
    "    celsius = float(input('Digite o valor da temperatura em Celsius'))\n",
    "    return print(celsius * 1.8 + 32)\n",
    "\n",
    "converterFahrenheit()"
   ]
  },
  {
   "cell_type": "markdown",
   "id": "535c92f1",
   "metadata": {},
   "source": [
    "## Exercício 4: Calcular a média de três números\n",
    "### Situação Problema: Você fez três exames e obteve as seguintes notas: 7.5, 8.0 e 6.5. Qual é a sua média nessas três provas?"
   ]
  },
  {
   "cell_type": "code",
   "execution_count": 24,
   "id": "c2c4fae5",
   "metadata": {},
   "outputs": [
    {
     "name": "stdout",
     "output_type": "stream",
     "text": [
      "79.67\n"
     ]
    }
   ],
   "source": [
    "#seu codigo aqui!\n",
    "\n",
    "def media1() :\n",
    "    n1 = int(input('Digite um numero'))\n",
    "    n2 = int(input('Digite um numero'))\n",
    "    n3 = int(input('Digite um numero'))\n",
    "    return round((n1 + n2 + n3) / 3, 2)\n",
    "\n",
    "print(media1())"
   ]
  },
  {
   "cell_type": "markdown",
   "id": "dc19120f",
   "metadata": {},
   "source": [
    "## Exercício 5: Calcular a hipotenusa de um triângulo retângulo\n",
    "### Situação Problema: Você está construindo uma rampa para um skatepark. As duas partes da rampa formam um ângulo reto, e as medidas dos catetos são 4 metros e 5 metros. Qual é o comprimento da rampa (hipotenusa)?"
   ]
  },
  {
   "cell_type": "code",
   "execution_count": 13,
   "id": "e634d60c",
   "metadata": {},
   "outputs": [
    {
     "name": "stdout",
     "output_type": "stream",
     "text": [
      "O valor da hipitenusa é 6.4 metros\n"
     ]
    }
   ],
   "source": [
    "#seu codigo aqui!\n",
    "\n",
    "def calHipotenusa() :\n",
    "    cateto1 = float(input('Digite o valor do cateto'))\n",
    "    cateto2 = float(input('Digite o valor do cateto'))\n",
    "\n",
    "    hipotenusa = (cateto1 ** 2 + cateto2 ** 2) ** 0.5\n",
    "\n",
    "    return print(f'O valor da hipitenusa é {round(hipotenusa, 2)} metros')\n",
    "\n",
    "calHipotenusa()"
   ]
  },
  {
   "cell_type": "markdown",
   "id": "63fa58f9",
   "metadata": {},
   "source": [
    "## Exercício 6: Calcular o perímetro de um quadrado\n",
    "### Situação Problema: Você está construindo um tapete quadrado para a sala de estar. Cada lado do tapete mede 3 metros. Qual é o perímetro total do tapete?"
   ]
  },
  {
   "cell_type": "code",
   "execution_count": 14,
   "id": "a2cc0651",
   "metadata": {},
   "outputs": [
    {
     "name": "stdout",
     "output_type": "stream",
     "text": [
      "o perimetro do quadrado é de 12.0\n"
     ]
    }
   ],
   "source": [
    "#seu codigo aqui!\n",
    "\n",
    "def perimQuadrado() :\n",
    "    l = float(input('Digite o valor do lado do quadrado'))\n",
    "    \n",
    "    return print(f'o perimetro do quadrado é de {l * 4} metros')\n",
    "\n",
    "perimQuadrado()"
   ]
  },
  {
   "cell_type": "markdown",
   "id": "0bc6d476",
   "metadata": {},
   "source": [
    "## Exercício 7: Calcular a média ponderada de três notas\n",
    "### Situação Problema: Você está estudando para três disciplinas diferentes. Suas notas são: 7.0 em Matemática, 8.5 em Ciências e 9.5 em História. Se a Matemática tem peso 2, Ciências tem peso 3 e História tem peso 5, qual é a sua média ponderada?\n",
    "\n"
   ]
  },
  {
   "cell_type": "code",
   "execution_count": 18,
   "id": "15b67f4a",
   "metadata": {},
   "outputs": [
    {
     "name": "stdout",
     "output_type": "stream",
     "text": [
      "A sua media foi de 8.7\n"
     ]
    }
   ],
   "source": [
    "#seu codigo aqui!\n",
    "def mediaPonderada():\n",
    "    matematica = float(input('Digite a nota de matematica'))\n",
    "    ciencias = float(input('Digite a nota de ciencias'))\n",
    "    historia = float(input('Digite a nota de historia'))\n",
    "\n",
    "    media = (matematica * 2 + ciencias * 3 + historia * 5) / (2 + 3 + 5)\n",
    "\n",
    "    return print(f'A sua media foi de {round(media, 1)}')\n",
    "\n",
    "mediaPonderada()"
   ]
  },
  {
   "cell_type": "markdown",
   "id": "a411f83c",
   "metadata": {},
   "source": [
    "## Exercício 8: Calcular a área de um círculo\n",
    "### Situação Problema: Você está pintando um alvo circular em uma parede. O raio do círculo é 2 metros. Qual é a área total que você precisa pintar?"
   ]
  },
  {
   "cell_type": "code",
   "execution_count": 21,
   "id": "e7a46d2d",
   "metadata": {},
   "outputs": [
    {
     "name": "stdout",
     "output_type": "stream",
     "text": [
      "A area do circulo é: 12.56\n"
     ]
    }
   ],
   "source": [
    "#seu codigo aqui!\n",
    "\n",
    "def areaCirculo() :\n",
    "    raio = float(input('Digite o raio do circulo'))\n",
    "    return print(f'A area do circulo é: {3.14 * raio ** 2}')\n",
    "\n",
    "areaCirculo()"
   ]
  },
  {
   "cell_type": "markdown",
   "id": "1d16b12a",
   "metadata": {},
   "source": [
    "## Exercício 9: Converter quilômetros para milhas\n",
    "### Situação Problema: Você está planejando uma viagem de carro. O percurso tem 200 quilômetros de extensão. Qual é a distância equivalente em milhas?\n",
    "\n",
    "\n",
    "\n",
    "\n"
   ]
  },
  {
   "cell_type": "code",
   "execution_count": 23,
   "id": "1ca02ada",
   "metadata": {},
   "outputs": [
    {
     "name": "stdout",
     "output_type": "stream",
     "text": [
      "200.0km equivale a 124.3 milhas\n"
     ]
    }
   ],
   "source": [
    "#seu codigo aqui!\n",
    "def kmToMi() :\n",
    "    km = float(input('Digite o valor em kilomatros'))\n",
    "    \n",
    "    return print(f'{km}km equivale a {round(km / 1.609, 2)} milhas')\n",
    "\n",
    "kmToMi()"
   ]
  },
  {
   "cell_type": "markdown",
   "id": "b19544a3",
   "metadata": {},
   "source": [
    "## Exercício 10: Calcular a média aritmética de quatro números\n",
    "### Situação Problema: Você está acompanhando as notas de um aluno em quatro provas: 6.5, 7.0, 8.5 e 9.0. Qual é a média aritmética dessas quatro notas?\n",
    "\n",
    "\n"
   ]
  },
  {
   "cell_type": "code",
   "execution_count": 1,
   "id": "10c84074",
   "metadata": {},
   "outputs": [
    {
     "name": "stdout",
     "output_type": "stream",
     "text": [
      "A media do aluno é: 7.75\n"
     ]
    }
   ],
   "source": [
    "#seu codigo aqui!\n",
    "\n",
    "notas = [6.5, 7.0, 8.5, 9.0]\n",
    "\n",
    "def media2() :\n",
    "    nota = 0\n",
    "    for i, j  in enumerate(notas):\n",
    "        nota += j\n",
    "    return print(f'A media do aluno é: {nota /(i + 1)}')\n",
    "\n",
    "media2()"
   ]
  },
  {
   "cell_type": "code",
   "execution_count": 8,
   "id": "2b53042e",
   "metadata": {},
   "outputs": [
    {
     "name": "stdout",
     "output_type": "stream",
     "text": [
      "['abc12', 'abc34', 'abc37']\n"
     ]
    }
   ],
   "source": [
    "def padronizar(lista_codigos, padrão = 'm'):\n",
    "    for i, item in enumerate(lista_codigos):\n",
    "        item = item.replace('  ', ' ')\n",
    "        item = item.strip()\n",
    "        if padrão == 'm':\n",
    "            item = item.casefold()\n",
    "        elif padrão == 'M':\n",
    "            item = item.upper()\n",
    "        lista_codigos[i] = item\n",
    "    \n",
    "    return lista_codigos\n",
    "\n",
    "cod_produtos = ['ABC12', 'abc34', 'AbC37']\n",
    "print(padronizar(cod_produtos,))\n",
    "\n"
   ]
  },
  {
   "cell_type": "code",
   "execution_count": 11,
   "id": "1f01aa65",
   "metadata": {},
   "outputs": [
    {
     "data": {
      "text/plain": [
       "(12, 8, 20, 5)"
      ]
     },
     "execution_count": 11,
     "metadata": {},
     "output_type": "execute_result"
    }
   ],
   "source": [
    "def operaçoes (num1, num2) :\n",
    "    soma = num1 + num2\n",
    "    subtração = num1 - num2\n",
    "    multiplicação = num1 * num2\n",
    "    divisão = num1 / num2\n",
    "    return (soma, subtração, multiplicação,int(divisão))\n",
    "\n",
    "operaçoes(int(input('numero 1')), int(input('numero2')))\n",
    "\n"
   ]
  },
  {
   "cell_type": "code",
   "execution_count": 17,
   "id": "a9fb73b9",
   "metadata": {},
   "outputs": [
    {
     "name": "stdout",
     "output_type": "stream",
     "text": [
      "50.0% ['João', 'Julia', 'Ana']\n"
     ]
    }
   ],
   "source": [
    "meta = 10000\n",
    "vendas = {\n",
    "    'João': 15000,\n",
    "    'Julia': 27000,\n",
    "    'Marcus': 9900,\n",
    "    'Maria': 3750,\n",
    "    'Ana': 10300,\n",
    "    'Alon': 7870\n",
    "}\n",
    "\n",
    "def calculo_meta(meta, vendas) :\n",
    "    bateram_meta = []\n",
    "    for vendedor in vendas :\n",
    "        if vendas[vendedor] >= meta :\n",
    "            bateram_meta.append(vendedor)\n",
    "    percentual = str(len(bateram_meta) / len(vendas) * 100) + '%'\n",
    "    return print(percentual, bateram_meta)\n",
    "\n",
    "calculo_meta(meta, vendas)\n",
    "\n"
   ]
  }
 ],
 "metadata": {
  "kernelspec": {
   "display_name": "Python 3 (ipykernel)",
   "language": "python",
   "name": "python3"
  },
  "language_info": {
   "codemirror_mode": {
    "name": "ipython",
    "version": 3
   },
   "file_extension": ".py",
   "mimetype": "text/x-python",
   "name": "python",
   "nbconvert_exporter": "python",
   "pygments_lexer": "ipython3",
   "version": "3.11.3"
  }
 },
 "nbformat": 4,
 "nbformat_minor": 5
}
