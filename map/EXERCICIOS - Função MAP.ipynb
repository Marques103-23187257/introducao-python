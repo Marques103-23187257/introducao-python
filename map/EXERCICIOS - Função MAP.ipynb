{
 "cells": [
  {
   "cell_type": "markdown",
   "id": "38f9fcc2",
   "metadata": {},
   "source": [
    "### Exercícios de função MAP\n",
    "####   ***** Tente fazer sozinho antes de consultar  *****"
   ]
  },
  {
   "cell_type": "markdown",
   "id": "6266b0e9",
   "metadata": {},
   "source": [
    "#### Exercício 1:\n",
    "Escreva um programa que receba uma lista de números como entrada e use a função map para elevar todos os números ao quadrado. Em seguida, imprima a lista resultante."
   ]
  },
  {
   "cell_type": "code",
   "execution_count": 2,
   "id": "16142264",
   "metadata": {},
   "outputs": [
    {
     "name": "stdout",
     "output_type": "stream",
     "text": [
      "[32, 97, 43, 19, 97, 50, 14, 93, 48, 94]\n",
      "[1024, 9409, 1849, 361, 9409, 2500, 196, 8649, 2304, 8836]\n"
     ]
    }
   ],
   "source": [
    "from random import randint\n",
    "\n",
    "def elevaQuadrado(numero) :\n",
    "    quadrado = numero ** 2\n",
    "    return quadrado\n",
    "\n",
    "\n",
    "numeros = [randint(0, 100) for i in range(10)]\n",
    "print(numeros)\n",
    "\n",
    "numeros = list(map(elevaQuadrado, numeros))\n",
    "print(numeros)"
   ]
  },
  {
   "cell_type": "markdown",
   "id": "78c82313",
   "metadata": {},
   "source": [
    "#### Exercício 2:\n",
    "Exercício 2:\n",
    "Crie uma função dobro que receba uma lista de números como entrada e use a função map para dobrar cada número na lista. Em seguida, imprima a lista resultante.\n"
   ]
  },
  {
   "cell_type": "code",
   "execution_count": 4,
   "id": "233c71f5",
   "metadata": {},
   "outputs": [
    {
     "name": "stdout",
     "output_type": "stream",
     "text": [
      "[97, 70, 57, 3, 58, 35, 60, 68, 94, 50]\n",
      "[194, 140, 114, 6, 116, 70, 120, 136, 188, 100]\n"
     ]
    }
   ],
   "source": [
    "\n",
    "from random import randint\n",
    "\n",
    "def dobraNumeros(numero) :\n",
    "    dobro = numero * 2\n",
    "    return dobro\n",
    "\n",
    "\n",
    "numeros = [randint(0, 100) for i in range(10)]\n",
    "print(numeros)\n",
    "\n",
    "numeros = list(map(dobraNumeros, numeros))\n",
    "print(numeros)"
   ]
  },
  {
   "cell_type": "markdown",
   "id": "f9a92dda",
   "metadata": {},
   "source": [
    "#### Exercício 3:\n",
    "\n",
    "Escreva um programa que receba uma lista de nomes como entrada e use a função map para adicionar a string \"Sr. \" antes de cada nome. Em seguida, imprima a lista resultante."
   ]
  },
  {
   "cell_type": "code",
   "execution_count": 6,
   "id": "55f2432d",
   "metadata": {},
   "outputs": [
    {
     "name": "stdout",
     "output_type": "stream",
     "text": [
      "['Sr. Adamastor', 'Sr. Joelington', 'Sr. Aroldo', 'Sr. Aluisio', 'Sr. Eurico']\n"
     ]
    }
   ],
   "source": [
    "\n",
    "nomes = ['Adamastor', 'Joelington', 'Aroldo', 'Aluisio', 'Eurico']\n",
    "\n",
    "def padronizaNomes(nome) :\n",
    "    padronizado = 'Sr. '+ nome\n",
    "    return padronizado\n",
    "\n",
    "nomes = list(map(padronizaNomes, nomes))\n",
    "\n",
    "print(nomes)"
   ]
  },
  {
   "cell_type": "markdown",
   "id": "e2205602",
   "metadata": {},
   "source": [
    "#### Exercício 4:\n",
    "Crie uma função calcular_area que receba uma lista de raios de círculos como entrada e use a função map para calcular a área de cada círculo. A área de um círculo é dada por π * raio^2. Em seguida, imprima a lista de áreas.\n",
    "\n",
    "\n"
   ]
  },
  {
   "cell_type": "code",
   "execution_count": 16,
   "id": "42165b19",
   "metadata": {},
   "outputs": [
    {
     "name": "stdout",
     "output_type": "stream",
     "text": [
      "[78, 50, 4, 8, 92, 25, 75, 83, 3, 47]\n",
      "[19113.45, 7853.98, 50.27, 201.06, 26590.44, 1963.5, 17671.46, 21642.43, 28.27, 6939.78]\n"
     ]
    }
   ],
   "source": [
    "from random import randint\n",
    "from math import radians\n",
    "\n",
    "def calculaArea(raio) :\n",
    "    area = radians(180) * raio ** 2\n",
    "    return round(area, 2)\n",
    "\n",
    "\n",
    "raios = [randint(1, 100) for i in range(10)]\n",
    "print(raios)\n",
    "\n",
    "areas = list(map(calculaArea, raios))\n",
    "print(areas)"
   ]
  },
  {
   "cell_type": "markdown",
   "id": "a6330d4e",
   "metadata": {},
   "source": [
    "#### Exercício 5:\n",
    "Escreva um programa que receba uma lista de frases como entrada e use a função map para contar o número de palavras em cada frase. Em seguida, imprima a lista de contagens de palavras."
   ]
  },
  {
   "cell_type": "code",
   "execution_count": 27,
   "id": "83b02275",
   "metadata": {},
   "outputs": [
    {
     "name": "stdout",
     "output_type": "stream",
     "text": [
      "['16 palavras', '18 palavras', '15 palavras', '15 palavras', '10 palavras']\n"
     ]
    }
   ],
   "source": [
    "frases = ['Não lamente o que podia ter e se perdeu por caminhos errados e nunca mais voltou.', 'A vida só pode ser compreendida olhando-se para trás, mas só pode ser vivida olhando-se para a frente.', 'Maior que a tristeza de não haver vencido é a vergonha de não ter lutado!', 'Maior que a tristeza de não haver vencido é a vergonha de não ter lutado!', 'A vida é muito importante para ser levada a sério.']\n",
    "\n",
    "def contaPalavras(frases):\n",
    "    palavras = frases.split()\n",
    "    num_palavras = len(palavras)\n",
    "    return str(num_palavras) + ' palavras'\n",
    "\n",
    "contagem = list(map(contaPalavras, frases))\n",
    "\n",
    "print(contagem)"
   ]
  }
 ],
 "metadata": {
  "kernelspec": {
   "display_name": "Python 3 (ipykernel)",
   "language": "python",
   "name": "python3"
  },
  "language_info": {
   "codemirror_mode": {
    "name": "ipython",
    "version": 3
   },
   "file_extension": ".py",
   "mimetype": "text/x-python",
   "name": "python",
   "nbconvert_exporter": "python",
   "pygments_lexer": "ipython3",
   "version": "3.11.3"
  }
 },
 "nbformat": 4,
 "nbformat_minor": 5
}
