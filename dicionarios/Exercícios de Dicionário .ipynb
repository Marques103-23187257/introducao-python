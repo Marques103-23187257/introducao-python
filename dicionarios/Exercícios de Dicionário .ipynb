{
 "cells": [
  {
   "cell_type": "markdown",
   "id": "d1096e68",
   "metadata": {},
   "source": [
    "# Exercícios de tuplas "
   ]
  },
  {
   "cell_type": "markdown",
   "id": "32c8fef7",
   "metadata": {},
   "source": [
    "## Esses exercícios ajudarão você a praticar o uso de dicionários em diferentes contextos e situações. Experimente resolver cada um deles para aprimorar suas habilidades em manipulação de dicionários em Python."
   ]
  },
  {
   "cell_type": "markdown",
   "id": "4a90b37f",
   "metadata": {},
   "source": [
    "# Exercício 1: Contagem de Palavras\n",
    "### Crie uma função que recebe uma string como entrada e retorna um dicionário onde as chaves são as palavras da string e os valores são a contagem de vezes que cada palavra aparece."
   ]
  },
  {
   "cell_type": "code",
   "execution_count": 7,
   "id": "ff702f47",
   "metadata": {},
   "outputs": [
    {
     "name": "stdout",
     "output_type": "stream",
     "text": [
      "{'uva': 2, 'pera': 1, 'maçã': 3}\n"
     ]
    }
   ],
   "source": [
    "texto = (input('Digite uma frase').lower()).split()\n",
    "\n",
    "dicionario = {}\n",
    "\n",
    "for palavra in texto :\n",
    "    dicionario.update({palavra : texto.count(palavra)})\n",
    "\n",
    "print(dicionario)"
   ]
  },
  {
   "cell_type": "markdown",
   "id": "946d6af0",
   "metadata": {},
   "source": [
    "# Exercício 2: Registro de Alunos\n",
    "### Crie um programa que permite registrar informações sobre alunos, como nome, idade e nota. Use um dicionário para armazenar essas informações e permita que o usuário adicione novos alunos e visualize os detalhes dos alunos existentes."
   ]
  },
  {
   "cell_type": "code",
   "execution_count": 1,
   "id": "4bbebc70",
   "metadata": {},
   "outputs": [],
   "source": [
    "registro = {}\n",
    "\n",
    "while True :\n",
    "    nome = input('Digite o nome do aluno').title()\n",
    "    if nome == '' :\n",
    "        break\n",
    "    else :\n",
    "        idade = int(input('Digite a idade do aluno'))\n",
    "        nota = int(input('Digite a nota do aluno'))\n",
    "        registro [nome] = {'idade' : idade, 'nota' : idade}\n",
    "        print(registro)\n",
    "    "
   ]
  },
  {
   "cell_type": "markdown",
   "id": "0a7de75b",
   "metadata": {},
   "source": [
    "# Exercício 3: Tradutor Simples\n",
    "### Crie um dicionário que mapeie algumas palavras em inglês para suas traduções em outro idioma. Peça ao usuário para digitar uma palavra em inglês e exiba a tradução correspondente."
   ]
  },
  {
   "cell_type": "code",
   "execution_count": 2,
   "id": "370a137c",
   "metadata": {},
   "outputs": [
    {
     "name": "stdout",
     "output_type": "stream",
     "text": [
      "dict_values(['faminto', 'terra', 'time, equipe', 'tempo'])\n",
      "Não temos a palavra  no nosso banco de dados, tente outra palavra\n"
     ]
    }
   ],
   "source": [
    "dicionario = {'hungry' : 'faminto', 'land' : 'terra', 'team' : 'time, equipe', 'time' : 'tempo'}\n",
    "\n",
    "\n",
    "traduzir = input('Digite a palavra que deseja tradzir')\n",
    "\n",
    "if dicionario.get(traduzir) == None :\n",
    "    print(f'Não temos a palavra {traduzir} no nosso banco de dados, tente outra palavra')\n",
    "else :\n",
    "    print(f'A tradução da palavra {traduzir} é: {dicionario.get(traduzir)}')"
   ]
  },
  {
   "cell_type": "markdown",
   "id": "d9d590bc",
   "metadata": {},
   "source": [
    "# Exercício 4: Estoque de Produtos\n",
    "### Crie um programa que simule o controle de estoque de uma loja. Use um dicionário onde as chaves são os nomes dos produtos e os valores são as quantidades em estoque. Permita que o usuário adicione ou remova produtos e atualize as quantidades."
   ]
  },
  {
   "cell_type": "code",
   "execution_count": 9,
   "id": "f93311d7",
   "metadata": {},
   "outputs": [
    {
     "name": "stdout",
     "output_type": "stream",
     "text": [
      "Produto pastel cadastrado com sucesso! Abra o estoque caso queira verificar.\n",
      "Produto tauba cadastrado com sucesso! Abra o estoque caso queira verificar.\n",
      "O valor do produto tauba foi atualizado com sucesso! Abra o estoque caso queira conferir\n",
      "Estoque atual :\n",
      "0- pastel 4.0\n",
      "1- tauba 65.99\n",
      "Estoque atual :\n",
      "0- pastel 4.0\n",
      "1- tauba 65.99\n",
      "O produto pastel foi deletado do estoque! Abra o estque caso queira verificar.\n",
      "Estoque atual :\n",
      "0- tauba 65.99\n",
      "Estoque atual :\n",
      "0- tauba 65.99\n"
     ]
    }
   ],
   "source": [
    "estoque = {}\n",
    "\n",
    "while True :\n",
    "    menu = input('Digite o que deseja fazer: \\n 1- adicionar produtos no estoque \\n 2 - deletar produto do estoque \\n 3- atualizar valores do produto \\n 4- verificar estoque \\n 5- sair')\n",
    "    \n",
    "    opçoes = '12345'\n",
    "\n",
    "    if menu not in opçoes or menu == '' :\n",
    "        print('Por favor, selecione uma opção valida')\n",
    "        continue\n",
    "    menu = int(menu)\n",
    "    if menu == 1 :\n",
    "        nome_produto = input('Digite o nome do item que deseja acrecentar ao estoque')\n",
    "        if nome_produto == '' :\n",
    "            print('O campo não pode ficar em branco')\n",
    "            continue\n",
    "        elif estoque.get(nome_produto) != None :\n",
    "            print('O produto ja esta registrado! Se deseja atualizar o valor do produto, selecione a opção 3 no menu')\n",
    "            continue\n",
    "        else :\n",
    "            valor_produto = input('Digite o valor do produto').replace(',', '.')\n",
    "            if valor_produto == '':\n",
    "                print('O campo não pode ficar em branco')\n",
    "                continue\n",
    "            else :\n",
    "                valor_produto = float(valor_produto)\n",
    "                estoque.update({nome_produto : valor_produto})\n",
    "                print(f'Produto {nome_produto} cadastrado com sucesso! Abra o estoque caso queira verificar.')\n",
    "                continue\n",
    "\n",
    "    elif menu == 2 :\n",
    "        nome_produto = input('Digite o nome do produto que deseja deletar')\n",
    "        if nome_produto == '' :\n",
    "            print('O campo não pode ficar em branco')\n",
    "            continue\n",
    "        elif estoque.get(nome_produto) == None :\n",
    "            print(f'O produto {nome_produto} não está registrado no estque.')\n",
    "            continue\n",
    "        else :\n",
    "            confirmar = input(f'Tem certesa que deseja deletar {nome_produto} do estoque? (responda com \"s\" ou \"n\")')\n",
    "            if confirmar == 's' :\n",
    "                del estoque[nome_produto]\n",
    "                print(f'O produto {nome_produto} foi deletado do estoque! Abra o estque caso queira verificar.')\n",
    "            else :\n",
    "                print('Okay, te redirecionaremos para o menu')\n",
    "            \n",
    "    elif menu == 3 :\n",
    "        nome_produto = input('Digite o nome do produto que deseja atualizar o valor')\n",
    "        if nome_produto == '' :\n",
    "            print('O campo não pode ficar em branco')\n",
    "            continue\n",
    "        elif estoque.get(nome_produto) == None :\n",
    "            print(f'O produto {nome_produto} não está registrado no estque.')\n",
    "            continue\n",
    "        else :\n",
    "            valor_produto = input('Digite o novo valor do produto').replace(',', '.')\n",
    "            if valor_produto == '':\n",
    "                print('O campo não pode ficar em branco')\n",
    "                continue\n",
    "            else :\n",
    "                valor_produto = float(valor_produto)\n",
    "                estoque.update({nome_produto : valor_produto})\n",
    "                print(f'O valor do produto {nome_produto} foi atualizado com sucesso! Abra o estoque caso queira conferir')\n",
    "                continue\n",
    "    elif menu == 4 :\n",
    "        print('Estoque atual :')\n",
    "        for i, j in enumerate(estoque) :\n",
    "            print(str(i) + '-', j, estoque[j])\n",
    "    elif menu == 5 :\n",
    "        break"
   ]
  },
  {
   "cell_type": "markdown",
   "id": "31c34736",
   "metadata": {},
   "source": [
    "# Exercício 5: Contagem de Caracteres\n",
    "### Crie uma função que recebe uma string e retorna um dicionário onde as chaves são os caracteres da string e os valores são a contagem de vezes que cada caracter aparece."
   ]
  },
  {
   "cell_type": "code",
   "execution_count": 3,
   "id": "70d8c2c6",
   "metadata": {},
   "outputs": [
    {
     "name": "stdout",
     "output_type": "stream",
     "text": [
      "{'v': 1, 'o': 2, 'c': 1, 'e': 3, ' ': 5, 'g': 1, 's': 2, 't': 2, 'a': 4, 'd': 1, 'u': 1, 'm': 1, 'b': 3, 'l': 2}\n"
     ]
    }
   ],
   "source": [
    "texto = input('Digite uma frase').lower()\n",
    "\n",
    "dicionario = {}\n",
    "\n",
    "for caracter in texto :\n",
    "    dicionario.update({caracter : texto.count(caracter)})\n",
    "\n",
    "print(dicionario)\n"
   ]
  },
  {
   "cell_type": "markdown",
   "id": "8b8d8f05",
   "metadata": {},
   "source": [
    "# Exercício 6: Agenda de Contatos\n",
    "### Crie um programa que simule uma agenda de contatos. Use um dicionário onde as chaves são os nomes das pessoas e os valores são seus números de telefone. Permita que o usuário adicione, atualize e remova contatos."
   ]
  },
  {
   "cell_type": "code",
   "execution_count": 3,
   "id": "5f5609fe",
   "metadata": {},
   "outputs": [],
   "source": [
    "agenda_contatos = {}\n",
    "\n",
    "while True :\n",
    "    menu = input('Selecione uma das opçôes:\\n 1- Adicionar um novo contato a agenda\\n 2- Apagar um contato\\n 3- Atualizar um contato\\n 4- Abrir lista de contatos\\n 0- Sair do menu')\n",
    "    verificar_numero = []\n",
    "    verificar_nome = []\n",
    "    remover = '()-+_ '\n",
    "    \n",
    "    for numeros in agenda_contatos.values() :\n",
    "        verificar_numero.append(numeros)\n",
    "    for nomes in agenda_contatos.keys() :\n",
    "        verificar_nome.append(nomes)\n",
    "    match menu :\n",
    "\n",
    "        case '0' :\n",
    "            break\n",
    "\n",
    "        case '1' :\n",
    "            while True:\n",
    "\n",
    "                for numeros in agenda_contatos.values() :\n",
    "                    verificar_numero.append(numeros)\n",
    "                for nomes in agenda_contatos.keys() :\n",
    "                    verificar_nome.append(nomes)\n",
    "\n",
    "                nome_contato = input('Digite o nome do contato.\\n 0- sair')\n",
    "                if nome_contato in verificar_nome :\n",
    "                    print(f'O contato \"{nome_contato}\" já está na lista de contatos!\\n Selecione a opção \"3- Atualizar contato\" caso queira atualisar o numero dele')\n",
    "                    continue\n",
    "                elif nome_contato == '0' :\n",
    "                    break\n",
    "                else :\n",
    "                    while True :\n",
    "                        numero_contato = input('Digite o numero do seu contato. \\n 0- retornar')\n",
    "                        for i in remover :\n",
    "                            numero_contato = numero_contato.replace(i, '')\n",
    "                        if numero_contato == '0' :\n",
    "                          break\n",
    "                        elif numero_contato in verificar_numero :\n",
    "                            print(f'O numero \"{numero_contato}\" já está vinclado ao contato {verificar_nome[verificar_numero.index(numero_contato)]}.\\n Caso queira atualizar o nome do contato, selecione a opção de atualizar um contato')\n",
    "                            continue\n",
    "                        elif numero_contato.isnumeric() != True :\n",
    "                            print('Digite um numero valido!')\n",
    "                            continue\n",
    "                        else :\n",
    "                            agenda_contatos.update({nome_contato: numero_contato})\n",
    "                            print('O contato foi registrado com sucesso!')\n",
    "                            break\n",
    "        \n",
    "        case '2' :\n",
    "            while True :\n",
    "\n",
    "                nome_contato = input('Digite o nome do contato.\\n 0- sair')\n",
    "\n",
    "                if nome_contato == '0' :\n",
    "                    break\n",
    "                elif nome_contato == '' :\n",
    "                    print('O campo preisa ser preenchido!')\n",
    "                    continue\n",
    "                elif nome_contato not in  verificar_nome :\n",
    "                    print(f'{nome_contato} não foi encontardo na sua agenda!')\n",
    "                    continue\n",
    "                else :\n",
    "                    while True :\n",
    "                        confirmar = input('Tem certeza?(digite \"s\" para sim ou \"n\" para não)')\n",
    "                        if confirmar == 's' :\n",
    "                            del(agenda_contatos[nome_contato])\n",
    "                            break\n",
    "                        elif confirmar == 'n' :\n",
    "                            print('O contato foi deletado com sucesso!')\n",
    "                            break\n",
    "                        else :\n",
    "                            print('Resposta invalida, digite \"s\" para sim ou \"n\" para não')\n",
    "                            continue\n",
    "        case '3' :\n",
    "            while True :\n",
    "\n",
    "                for numeros in agenda_contatos.values() :\n",
    "                    verificar_numero.append(numeros)\n",
    "                for nomes in agenda_contatos.keys() :\n",
    "                    verificar_nome.append(nomes)\n",
    "\n",
    "                nome_contato = input('Digite o nome do contato.\\n 0- sair')\n",
    "\n",
    "                if nome_contato == '0' :\n",
    "                    break\n",
    "                elif nome_contato == '' :\n",
    "                    print('O compo precisa ser preenchido')\n",
    "                    continue\n",
    "                elif nome_contato not in verificar_nome :\n",
    "                    print(f'{nome_contato} não foi encontado na sua agenda!')\n",
    "                    continue\n",
    "                else :\n",
    "                    while True :\n",
    "                        numero_contato = input('Digite o novo numero do seu contato. \\n 0- retornar')\n",
    "                        for i in remover :\n",
    "                            numero_contato = numero_contato.replace(i, '')\n",
    "\n",
    "                        if numero_contato == '0' :\n",
    "                            break\n",
    "                        elif numero_contato == '':\n",
    "                            print('O campo precisa estar preenchido!')\n",
    "                            continue\n",
    "                        elif numero_contato in verificar_numero :\n",
    "                            print(f'O numero \"{numero_contato}\" já está vinclado ao contato {verificar_nome[verificar_numero.index(numero_contato)]}.')\n",
    "                            continue\n",
    "                        else :\n",
    "                            agenda_contatos.update({numero_contato : numero_contato})\n",
    "                            print('O contato foi atualisado com sucesso!')\n",
    "                            break\n",
    "        case '4' :\n",
    "            print('Lista de contatos')\n",
    "            for i in agenda_contatos :\n",
    "                print(f'Nome: {i} - numero : {agenda_contatos[i]}')\n",
    "        \n",
    "        case _ :\n",
    "            break\n",
    "                        "
   ]
  },
  {
   "cell_type": "markdown",
   "id": "dfe9aa0c",
   "metadata": {},
   "source": [
    "# Exercício 7: Notas de Alunos\n",
    "### Crie um programa que permite registrar as notas de alunos em várias disciplinas. Use um dicionário aninhado, onde as chaves externas são os nomes dos alunos e as chaves internas são as disciplinas. Permita que o usuário adicione notas e visualize as médias dos alunos."
   ]
  },
  {
   "cell_type": "code",
   "execution_count": null,
   "id": "8e10caaa",
   "metadata": {},
   "outputs": [],
   "source": [
    "diario = {}\n",
    "\n",
    "while True :\n",
    "    "
   ]
  },
  {
   "cell_type": "markdown",
   "id": "c81f0cb4",
   "metadata": {},
   "source": [
    "# Exercício 8: Contagem de Letras em Palavras\n",
    "### Crie uma função que recebe uma lista de palavras e retorna um dicionário onde as chaves são as letras presentes nas palavras e os valores são a contagem total de vezes que cada letra aparece."
   ]
  },
  {
   "cell_type": "code",
   "execution_count": null,
   "id": "5f058fef",
   "metadata": {},
   "outputs": [],
   "source": []
  },
  {
   "cell_type": "markdown",
   "id": "ac2a2456",
   "metadata": {},
   "source": [
    "# Exercício 9: Calculadora de Despesas\n",
    "### Crie um programa que simule o controle de despesas de um grupo de amigos. Use um dicionário onde as chaves são os nomes dos amigos e os valores são listas de despesas. Permita que o usuário adicione despesas e calcule quanto cada pessoa deve pagar."
   ]
  },
  {
   "cell_type": "code",
   "execution_count": null,
   "id": "9987e73e",
   "metadata": {},
   "outputs": [],
   "source": []
  },
  {
   "cell_type": "markdown",
   "id": "07c1ee0b",
   "metadata": {},
   "source": [
    "# Exercício 10: Jogo de Trívia\n",
    "### Crie um jogo de trívia em que o programa faz perguntas e o usuário responde. Use um dicionário onde as chaves são as perguntas e os valores são as respostas corretas. Mostre as perguntas ao usuário, solicite a resposta e informe se ele acertou ou errou."
   ]
  },
  {
   "cell_type": "code",
   "execution_count": null,
   "id": "0d47f9f5",
   "metadata": {},
   "outputs": [],
   "source": []
  }
 ],
 "metadata": {
  "kernelspec": {
   "display_name": "Python 3 (ipykernel)",
   "language": "python",
   "name": "python3"
  },
  "language_info": {
   "codemirror_mode": {
    "name": "ipython",
    "version": 3
   },
   "file_extension": ".py",
   "mimetype": "text/x-python",
   "name": "python",
   "nbconvert_exporter": "python",
   "pygments_lexer": "ipython3",
   "version": "3.11.3"
  }
 },
 "nbformat": 4,
 "nbformat_minor": 5
}
