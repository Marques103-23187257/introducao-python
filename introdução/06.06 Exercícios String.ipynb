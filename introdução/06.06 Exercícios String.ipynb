{
 "cells": [
  {
   "cell_type": "markdown",
   "metadata": {},
   "source": [
    "# Exercícios\n",
    "\n",
    "## 1. Cadastro de CPF\n",
    "\n",
    "Crie um programa para cadastro de CPF de clientes que recebe o CPF em um input box apenas com números.\n",
    "\n",
    "Ex: 'Insira seu CPF (digite apenas números)'\n",
    "\n",
    "Caso o usuário digite algo diferente de números ou digite menos de 11 caracteres (tamanho do CPF brasileiro), o programa deve exibir uma mensagem de \"Digite seu CPF corretamente e digite apenas números\""
   ]
  },
  {
   "cell_type": "code",
   "execution_count": 4,
   "metadata": {},
   "outputs": [
    {
     "name": "stdout",
     "output_type": "stream",
     "text": [
      "410.641.128-89\n"
     ]
    }
   ],
   "source": [
    "user_cpf = input('Insira o seu CPF (Digite apeas numeros)')\n",
    "\n",
    "if len(user_cpf) != 11 :\n",
    "    print('Digite o seu CPF corretamente!')\n",
    "\n",
    "elif user_cpf.isnumeric() == False :\n",
    "    print('Digite apenas numeros!')\n",
    "\n",
    "CPF = user_cpf[:3] + '.' + user_cpf[3:6] + '.' + user_cpf[6:9] + \"-\" + user_cpf[9:]\n",
    "print(CPF)\n"
   ]
  },
  {
   "cell_type": "markdown",
   "metadata": {},
   "source": [
    "## 2. Melhorando nosso Cadastro de CPF\n",
    "\n",
    "Agora, além das validações anteriores, vamos criar um input que permita que o usuário insira pontos, traços e inclusive espaços vazios.\n",
    "\n",
    "Nosso programa deve \"tratar\" o que o usuário inserir para padronizar o CPF dele em apenas números.\n",
    "\n",
    "A verificação de tamanho do CPF com 11 caracteres continua válida, mas ela só deve ser feita depois de retirar todos os pontos, traços e espaços do CPF que o cliente inserir e, uma vez retirados pontos, traços e espaços, devem sobrar apenas números no CPF. Qualquer outro caractere deve ser considerado inválido.\n",
    "\n",
    "No final, nosso programa deve exibir uma mensagem para o usuário, caso ele tenha inserido o CPF inválido ou então apenas deve printar o CPF correto já só com número."
   ]
  },
  {
   "cell_type": "code",
   "execution_count": 10,
   "metadata": {},
   "outputs": [
    {
     "ename": "TypeError",
     "evalue": "list indices must be integers or slices, not tuple",
     "output_type": "error",
     "traceback": [
      "\u001b[1;31m---------------------------------------------------------------------------\u001b[0m",
      "\u001b[1;31mTypeError\u001b[0m                                 Traceback (most recent call last)",
      "Cell \u001b[1;32mIn[10], line 4\u001b[0m\n\u001b[0;32m      1\u001b[0m user_cpf \u001b[39m=\u001b[39m \u001b[39minput\u001b[39m(\u001b[39m'\u001b[39m\u001b[39mInsira o seu CPF (Digite apeas numeros)\u001b[39m\u001b[39m'\u001b[39m)\n\u001b[0;32m      2\u001b[0m teste \u001b[39m=\u001b[39m [\u001b[39m'\u001b[39m\u001b[39m,\u001b[39m\u001b[39m'\u001b[39m, \u001b[39m'\u001b[39m\u001b[39m.\u001b[39m\u001b[39m'\u001b[39m, \u001b[39m'\u001b[39m\u001b[39m-\u001b[39m\u001b[39m'\u001b[39m, \u001b[39m'\u001b[39m\u001b[39m_\u001b[39m\u001b[39m'\u001b[39m, \u001b[39m'\u001b[39m\u001b[39m \u001b[39m\u001b[39m'\u001b[39m]\n\u001b[1;32m----> 4\u001b[0m user_cpf \u001b[39m=\u001b[39m user_cpf\u001b[39m.\u001b[39mreplace(teste[\u001b[39m0\u001b[39;49m, \u001b[39m1\u001b[39;49m], \u001b[39m\"\u001b[39m\u001b[39m\"\u001b[39m)\n\u001b[0;32m      6\u001b[0m \u001b[39m# user_cpf = user_cpf.replace(',', \"\")\u001b[39;00m\n\u001b[0;32m      7\u001b[0m \u001b[39m# user_cpf = user_cpf.replace('.', \"\")\u001b[39;00m\n\u001b[0;32m      8\u001b[0m \u001b[39m# user_cpf = user_cpf.replace('-', \"\")\u001b[39;00m\n\u001b[0;32m      9\u001b[0m \u001b[39m# user_cpf = user_cpf.replace('_', \"\")\u001b[39;00m\n\u001b[0;32m     10\u001b[0m \u001b[39m# user_cpf = user_cpf.replace(' ', \"\")\u001b[39;00m\n\u001b[0;32m     12\u001b[0m \u001b[39mif\u001b[39;00m \u001b[39mlen\u001b[39m(user_cpf) \u001b[39m!=\u001b[39m \u001b[39m11\u001b[39m :\n",
      "\u001b[1;31mTypeError\u001b[0m: list indices must be integers or slices, not tuple"
     ]
    }
   ],
   "source": [
    "\n",
    "user_cpf = input('Insira o seu CPF (Digite apeas numeros)')\n",
    "teste = [',', '.', '-', '_', ' ']\n",
    "\n",
    "user_cpf = user_cpf.replace(teste[0   ], \"\")\n",
    "\n",
    "# user_cpf = user_cpf.replace(',', \"\")\n",
    "# user_cpf = user_cpf.replace('.', \"\")\n",
    "# user_cpf = user_cpf.replace('-', \"\")\n",
    "# user_cpf = user_cpf.replace('_', \"\")\n",
    "# user_cpf = user_cpf.replace(' ', \"\")\n",
    "\n",
    "if len(user_cpf) != 11 :\n",
    "    print('Digite o seu CPF corretamente!')\n",
    "\n",
    "elif user_cpf.isnumeric() == False :\n",
    "    print('Digite apenas numeros!')\n",
    "else:\n",
    "    CPF = user_cpf[:3] + '.' + user_cpf[3:6] + '.' + user_cpf[6:9] + \"-\" + user_cpf[9:]\n",
    "    print(CPF)"
   ]
  },
  {
   "cell_type": "markdown",
   "metadata": {},
   "source": [
    "## 3. Cadastro de e-mails\n",
    "\n",
    "- A Hashtag sempre se comunica com seus clientes por e-mail. Para isso, a gente tem em cada página um cadastro de nome e e-mail. Nesse cadastro, nosso sistema verifica se o e-mail que a pessoa inseriu é um e-mail válido, verificando se ele tem '@' e se depois do '@' tem algum ponto, afinal:\n",
    "\n",
    "- liragmail.com NÃO é um e-mail válido\n",
    "- lira@gmail NÃO é um e-mail válido\n",
    "- lira@gmail.com é um e-mail válido\n",
    "\n",
    "Crie um programa que permita o cadastro de nome e e-mail de uma pessoa (por meio de inputs) e que verifique:\n",
    "1. Se nome e e-mail foram preenchidos, caso contrário ele deve avisar para preencher todos os dados corretamente\n",
    "2. Se o e-mail contém '@' e se depois do '@' existe algum '.', caso contrário ele deve exibir uma mensagem de e-mail inválido\n",
    "\n",
    "Obs: Pode te ajudar lembrar do método .find da aula de Métodos de String. Você pode testar o que ele dá como resposta caso ele não encontre um item dentro da string"
   ]
  },
  {
   "cell_type": "code",
   "execution_count": 6,
   "metadata": {},
   "outputs": [
    {
     "name": "stdout",
     "output_type": "stream",
     "text": [
      "Preencha todos os campos\n"
     ]
    }
   ],
   "source": [
    "user_name = input('Digite o seu nome')\n",
    "user_email = input('Insira seu email')\n",
    "\n",
    "if user_email and user_email :\n",
    "    pos_a = user_email.find('@')\n",
    "    servidor = user_email[pos_a:]\n",
    "    if pos_a != -1 and not '.' in servidor :\n",
    "        print\n"
   ]
  }
 ],
 "metadata": {
  "kernelspec": {
   "display_name": "Python 3",
   "language": "python",
   "name": "python3"
  },
  "language_info": {
   "codemirror_mode": {
    "name": "ipython",
    "version": 3
   },
   "file_extension": ".py",
   "mimetype": "text/x-python",
   "name": "python",
   "nbconvert_exporter": "python",
   "pygments_lexer": "ipython3",
   "version": "3.11.3"
  }
 },
 "nbformat": 4,
 "nbformat_minor": 4
}
