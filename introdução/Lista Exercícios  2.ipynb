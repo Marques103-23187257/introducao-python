{
 "cells": [
  {
   "cell_type": "markdown",
   "id": "a220e4e2",
   "metadata": {},
   "source": [
    "# Exercícios do Módulo 5 - Metódo .format"
   ]
  },
  {
   "cell_type": "markdown",
   "id": "737f7ee0",
   "metadata": {},
   "source": [
    "## Crie programas em python para atender as especificações abaixo."
   ]
  },
  {
   "cell_type": "markdown",
   "id": "33904d99",
   "metadata": {},
   "source": [
    "#####\n",
    "\n",
    "\n",
    "\n",
    "\n",
    "\n",
    "\n"
   ]
  },
  {
   "cell_type": "markdown",
   "id": "6f2fae2c",
   "metadata": {},
   "source": [
    "####"
   ]
  },
  {
   "cell_type": "markdown",
   "id": "b9d7d65b",
   "metadata": {},
   "source": [
    "# 1 - Faça um programa que peça o nome de um país, a capital e o idioma oficial e exiba uma mensagem com essas informações."
   ]
  },
  {
   "cell_type": "code",
   "execution_count": 4,
   "id": "1b62af10",
   "metadata": {},
   "outputs": [
    {
     "name": "stdout",
     "output_type": "stream",
     "text": [
      "Ensira o nome de um paísbrasil\n",
      "Ensira o nome da capital deste paíssueco\n",
      "Ensira o idioma oficial de um paíspato branco\n",
      "A capital de(a,o) brasil é sueco, e o seu idioma oficial é pato branco\n"
     ]
    }
   ],
   "source": [
    "país = input('Ensira o nome de um país')\n",
    "capital = input('Ensira o nome da capital deste país')\n",
    "idioma = input('Ensira o idioma oficial de um país')\n",
    "print('A capital de(a,o) {} é {}, e o seu idioma oficial é {}'.format(país, capital, idioma))"
   ]
  },
  {
   "cell_type": "markdown",
   "id": "5d617672",
   "metadata": {},
   "source": [
    "# 2 - Escreva um programa que peça dois números e exiba a soma deles."
   ]
  },
  {
   "cell_type": "code",
   "execution_count": 7,
   "id": "2c842c57",
   "metadata": {},
   "outputs": [
    {
     "name": "stdout",
     "output_type": "stream",
     "text": [
      "digite um numero60\n",
      "digite um segundo numero40\n",
      "a soma de 60 e 40 é: 100\n"
     ]
    }
   ],
   "source": [
    "n1 = int(input('digite um numero'))\n",
    "n2 = int(input('digite um segundo numero'))\n",
    "print('a soma de {} e {} é: {}'.format(n1, n2, n1 + n2))"
   ]
  },
  {
   "cell_type": "markdown",
   "id": "78770cac",
   "metadata": {},
   "source": [
    "# 3 - Faça um programa que solicite o nome e a idade do usuário e exiba uma mensagem personalizada."
   ]
  },
  {
   "cell_type": "code",
   "execution_count": 9,
   "id": "85cc64da",
   "metadata": {},
   "outputs": [
    {
     "name": "stdout",
     "output_type": "stream",
     "text": [
      "Digite seu nomeGabriel\n",
      "ensira a sua idade21\n",
      "Bem vindo, Gabriel! Fomos informados que você tem 21 anos de idade. Está correto?\n"
     ]
    }
   ],
   "source": [
    "user_name = input('Digite seu nome')\n",
    "user_age = input('ensira a sua idade')\n",
    "print('Bem vindo, {}! Fomos informados que você tem {} anos de idade. Está correto?'.format(user_name, user_age))"
   ]
  },
  {
   "cell_type": "markdown",
   "id": "259a4bbf",
   "metadata": {},
   "source": [
    "# 4 - Crie duas variáveis para armazenar valores numéricos e exiba o resultado da soma."
   ]
  },
  {
   "cell_type": "code",
   "execution_count": 10,
   "id": "2d4313e9",
   "metadata": {},
   "outputs": [
    {
     "name": "stdout",
     "output_type": "stream",
     "text": [
      "digite um numero50\n",
      "digite um segundo numero8\n",
      "a soma de 50 e 8 é: 58\n"
     ]
    }
   ],
   "source": [
    "n1 = int(input('digite um numero'))\n",
    "n2 = int(input('digite um segundo numero'))\n",
    "print('a soma de {} e {} é: {}'.format(n1, n2, n1 + n2))"
   ]
  },
  {
   "cell_type": "markdown",
   "id": "a4b642fa",
   "metadata": {},
   "source": [
    "# 5 -  Escreva um programa que peça o nome do usuário e exiba uma mensagem de boas-vindas."
   ]
  },
  {
   "cell_type": "code",
   "execution_count": 14,
   "id": "dfee06bd",
   "metadata": {},
   "outputs": [
    {
     "name": "stdout",
     "output_type": "stream",
     "text": [
      "Digite seu nomegabriel\n",
      "Bem-vindo, gabriel!\n"
     ]
    }
   ],
   "source": [
    "user_name = input('Digite seu nome')\n",
    "print('Bem-vindo, {}!'.format(user_name))"
   ]
  },
  {
   "cell_type": "markdown",
   "id": "1aa984cf",
   "metadata": {},
   "source": [
    "#  6 - Você foi contratado para desenvolver um programa que auxilie um petshop a gerar mensagens personalizadas para seus clientes. O programa deve solicitar algumas informações do cliente e, em seguida, exibir uma mensagem customizada com base nos dados fornecidos.\n",
    "\n",
    "O programa deve conter as seguintes etapas:\n",
    "\n",
    "Solicitar ao usuário que digite seu nome, o nome do seu pet (animal de estimação) e a espécie do pet (por exemplo, cachorro, gato, pássaro, etc.).\n",
    "\n",
    "Em seguida, peça ao usuário que informe a idade do pet em anos.\n",
    "\n",
    "Solicite também ao usuário que informe se o pet já tomou todas as vacinas obrigatórias (responda com \"Sim\" ou \"Não\").\n",
    "\n",
    "Com base nas informações coletadas, o programa deve gerar uma mensagem personalizada para o cliente. A mensagem deve incluir o nome do cliente, o nome do pet, a espécie do pet, sua idade em anos e se já tomou todas as vacinas obrigatórias."
   ]
  },
  {
   "cell_type": "code",
   "execution_count": 16,
   "id": "72c15eff",
   "metadata": {},
   "outputs": [
    {
     "name": "stdout",
     "output_type": "stream",
     "text": [
      "Digite o seu nomegabriel\n",
      "Digite o nome do seu petgerson\n",
      "Informe a especie do seu pet. Ex: gato,cachorro, passaro, etccorvo\n",
      "Informe a idade do seu pet30\n",
      "Seu pet já tomou todas as vacinas obrigatorias? (responda com \"sim\" ou \"não\")sim\n",
      "Olá, gabriel\n",
      "\n",
      "Bem-vindo à nossa petshop!\n",
      "\n",
      "Muito obriagdo, o cadastro do seu pet foi realizado com sucesso!\n",
      "\n",
      "Confira abaixo os dados informados:\n",
      "\n",
      "Nome do pet: gerson\n",
      "Especie: corvo\n",
      "Idade: 30\n",
      "Vacinas obrigatorias em dia? sim\n",
      "\n",
      "Caso algo tenha sido informado errado, é só editar no menu do usuario.\n",
      "\n",
      "Obrigado pela confiança, esperamos voçês na nossa petshop 😉\n",
      "\n",
      "Tenha um otimo dia ❤\n",
      "\n",
      "\n"
     ]
    }
   ],
   "source": [
    "nome_dono = input('Digite o seu nome')\n",
    "nome_pet = input('Digite o nome do seu pet')\n",
    "especie = input('Informe a especie do seu pet. Ex: gato,cachorro, passaro, etc')\n",
    "idade_pet = input('Informe a idade do seu pet')\n",
    "vac_pet = input('Seu pet já tomou todas as vacinas obrigatorias? (responda com \"sim\" ou \"não\")')\n",
    "\n",
    "print(\"\"\"Olá, {}\n",
    "\n",
    "Bem-vindo à nossa petshop!\n",
    "\n",
    "Muito obriagdo, o cadastro do seu pet foi realizado com sucesso!\n",
    "\n",
    "Confira abaixo os dados informados:\n",
    "\n",
    "Nome do pet: {}\n",
    "Especie: {}\n",
    "Idade: {}\n",
    "Vacinas obrigatorias em dia? {}\n",
    "\n",
    "Caso algo tenha sido informado errado, é só editar no menu do usuario.\n",
    "\n",
    "Obrigado pela confiança, esperamos voçês na nossa petshop 😉\n",
    "\n",
    "Tenha um otimo dia ❤\n",
    "\n",
    "\"\"\".format(nome_dono, nome_pet, especie, idade_pet, vac_pet))"
   ]
  },
  {
   "cell_type": "code",
   "execution_count": null,
   "id": "15183978",
   "metadata": {},
   "outputs": [],
   "source": []
  }
 ],
 "metadata": {
  "kernelspec": {
   "display_name": "Python 3 (ipykernel)",
   "language": "python",
   "name": "python3"
  },
  "language_info": {
   "codemirror_mode": {
    "name": "ipython",
    "version": 3
   },
   "file_extension": ".py",
   "mimetype": "text/x-python",
   "name": "python",
   "nbconvert_exporter": "python",
   "pygments_lexer": "ipython3",
   "version": "3.11.3"
  }
 },
 "nbformat": 4,
 "nbformat_minor": 5
}
