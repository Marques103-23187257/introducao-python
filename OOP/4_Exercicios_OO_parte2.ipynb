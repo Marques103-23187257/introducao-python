{
  "cells": [
    {
      "cell_type": "markdown",
      "metadata": {
        "id": "CXof86h3x2Gx"
      },
      "source": [
        "# Exercícios : Orientação a Objetos no Python - Parte 2"
      ]
    },
    {
      "cell_type": "markdown",
      "metadata": {
        "id": "s4mG0KoFx2G1"
      },
      "source": [
        "### Exercício 1: Herança\n",
        "\n",
        "Crie uma classe chamada ProfissionalSaude com um método trabalhar() que imprime \"Profissional de saúde em ação\".\n",
        "\n",
        "Em seguida, crie uma classe Medico que herda de ProfissionalSaude e sobrescreva o método trabalhar() para que imprima \"Médico realizando cirurgia\".\n",
        "\n",
        "Em seguida, crie uma classe Enfermeiro que também herda de ProfissionalSaude e sobrescreva o método trabalhar() para que imprima \"Enfermeiro aplicando injeção\".\n",
        "\n",
        "Teste todas as classes."
      ]
    },
    {
      "cell_type": "code",
      "execution_count": 6,
      "metadata": {
        "id": "Pk1_MuKIx2G2"
      },
      "outputs": [
        {
          "name": "stdout",
          "output_type": "stream",
          "text": [
            "Profissional de saúde em ação\n",
            "Medico realizando cirurgia\n",
            "Enfermeiro aplicando injeção\n"
          ]
        }
      ],
      "source": [
        "class ProfissionalSaude:\n",
        "    mensagem = 'Profissional de saúde em ação'\n",
        "    def trabalhar(self):\n",
        "        print(self.mensagem)\n",
        "\n",
        "class Medico(ProfissionalSaude):\n",
        "    mensagem = 'Medico realizando cirurgia'\n",
        "\n",
        "class Enfermeiro(ProfissionalSaude):\n",
        "    mensagem = 'Enfermeiro aplicando injeção'\n",
        "\n",
        "profissional = ProfissionalSaude()\n",
        "profissional.trabalhar()\n",
        "\n",
        "medico_1 = Medico()\n",
        "medico_1.trabalhar()\n",
        "\n",
        "enfermeiro_1 = Enfermeiro()\n",
        "enfermeiro_1.trabalhar()"
      ]
    },
    {
      "cell_type": "markdown",
      "metadata": {
        "id": "nmGNe_FHx2G2"
      },
      "source": [
        "### Exercício 2:\n",
        "\n",
        "Crie uma classe chamada Veiculo com um método mover() que imprime \"Veículo em movimento\".\n",
        "\n",
        "Em seguida, crie uma classe Carro que herda de Veiculo e sobrescreva o método mover() para que imprima \"Carro andando\".\n",
        "\n",
        "Em seguida, crie outra classe Aviao que herda de Veiculo e sobrescreva o método mover() para que imprima \"Aviao voando\".\n",
        "\n",
        "Teste todas as classes."
      ]
    },
    {
      "cell_type": "code",
      "execution_count": 9,
      "metadata": {
        "id": "v4magUQOx2G2"
      },
      "outputs": [
        {
          "name": "stdout",
          "output_type": "stream",
          "text": [
            "Veículo em movimento\n",
            "Carro andando\n",
            "Avião voando\n"
          ]
        }
      ],
      "source": [
        "class Veiculo:\n",
        "    mensagem = 'Veículo em movimento'\n",
        "    \n",
        "    def mover(self):\n",
        "        print(self.mensagem)\n",
        "\n",
        "class Carro(Veiculo):\n",
        "    mensagem = 'Carro andando'\n",
        "\n",
        "class Aviao(Veiculo):\n",
        "    mensagem = 'Avião voando'\n",
        "\n",
        "veiculo_1 = Veiculo()\n",
        "veiculo_1.mover()\n",
        "\n",
        "carro_1 = Carro()\n",
        "carro_1.mover()\n",
        "\n",
        "aviao_1 = Aviao()\n",
        "aviao_1.mover()"
      ]
    },
    {
      "cell_type": "markdown",
      "metadata": {
        "id": "mORBC6R9x2G2"
      },
      "source": [
        "### Exercício 3: Polimorfismo de Classe\n",
        "Crie uma classe base chamada Forma com um método area() que retorna 0.\n",
        "\n",
        "Em seguida, crie três classes: Quadrado, Circulo e Retangulo, cada uma herdando de Forma.\n",
        "Implemente o método area() em cada uma dessas classes para calcular a área do quadrado, do círculo e do retângulo, respectivamente.\n",
        "\n",
        "Teste as três classes para calcular e imprimir a área de um quadrado com lado 5, de um círculo com raio 3 e de um retângulo com base 4 e altura 6."
      ]
    },
    {
      "cell_type": "code",
      "execution_count": 12,
      "metadata": {
        "id": "9Cx153rLx2G3"
      },
      "outputs": [
        {
          "name": "stdout",
          "output_type": "stream",
          "text": [
            "16\n",
            "200.96\n",
            "70\n"
          ]
        }
      ],
      "source": [
        "class Forma:\n",
        "    def area(self):\n",
        "        return 0\n",
        "class Quadrado(Forma):\n",
        "    \n",
        "    def __init__(self, lado):\n",
        "        self.lado = lado\n",
        "    \n",
        "    def area(self):\n",
        "        return self.lado ** 2\n",
        "    \n",
        "class Circulo(Forma):\n",
        "    def __init__(self, raio):\n",
        "        self.raio = raio\n",
        "    \n",
        "    def area(self):\n",
        "        return round(3.14 * self.raio ** 2, 2)\n",
        "\n",
        "class Retangulo(Forma):\n",
        "    def __init__(self, base, altura):\n",
        "        self.base = base\n",
        "        self.altura = altura\n",
        "    \n",
        "    def area(self):\n",
        "        return self.base * self.altura\n",
        "    \n",
        "quadrado_1 = Quadrado(4)\n",
        "area_quadrado = quadrado_1.area()\n",
        "print(area_quadrado)\n",
        "\n",
        "circulo_1 = Circulo(8)\n",
        "area_circulo = circulo_1.area()\n",
        "print(area_circulo)\n",
        "\n",
        "retangulo_1 = Retangulo(5, 14)\n",
        "area_retangulo = retangulo_1.area()\n",
        "print(area_retangulo)\n"
      ]
    },
    {
      "cell_type": "markdown",
      "metadata": {
        "id": "HsEjKqC3d1Hl"
      },
      "source": [
        "## Exercício 4: Polimorfismo de Interface\n",
        "Imagine que você está desenvolvendo um software para controle de produção em uma fábrica.\n",
        "\n",
        "Você precisa criar uma interface chamada Maquina que contenha um método executar() para simular o funcionamento de diferentes máquinas industriais.\n",
        "\n",
        "Em seguida, crie duas classes: Furadeira e Esteira, ambas implementando a interface Maquina. A classe Furadeira deve ter um método executar() que simula o funcionamento de uma furadeira, enquanto a classe Esteira deve ter um método executar() que simula o transporte de itens em uma esteira.\n",
        "\n",
        "Finalmente, crie uma função producao que recebe uma lista de objetos do tipo Maquina e chama o método executar() para cada objeto na lista."
      ]
    },
    {
      "cell_type": "code",
      "execution_count": null,
      "metadata": {
        "id": "4ZwtjwkRd_hk"
      },
      "outputs": [],
      "source": []
    }
  ],
  "metadata": {
    "colab": {
      "provenance": []
    },
    "kernelspec": {
      "display_name": "Python 3",
      "language": "python",
      "name": "python3"
    },
    "language_info": {
      "codemirror_mode": {
        "name": "ipython",
        "version": 3
      },
      "file_extension": ".py",
      "mimetype": "text/x-python",
      "name": "python",
      "nbconvert_exporter": "python",
      "pygments_lexer": "ipython3",
      "version": "3.8.3"
    }
  },
  "nbformat": 4,
  "nbformat_minor": 0
}
