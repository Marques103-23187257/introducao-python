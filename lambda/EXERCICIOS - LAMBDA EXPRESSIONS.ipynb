{
 "cells": [
  {
   "cell_type": "markdown",
   "id": "a89c014e",
   "metadata": {},
   "source": [
    "### Exercícios de Lambda Expressions\n",
    "####   ***** Tente fazer sozinho antes de consultar  *****"
   ]
  },
  {
   "cell_type": "markdown",
   "id": "8061fbc9",
   "metadata": {},
   "source": [
    "#### Exercício 1:\n",
    "Crie uma expressão lambda que retorne o quadrado de um número."
   ]
  },
  {
   "cell_type": "code",
   "execution_count": 7,
   "id": "395f7952",
   "metadata": {},
   "outputs": [
    {
     "name": "stdout",
     "output_type": "stream",
     "text": [
      "4 16\n"
     ]
    }
   ],
   "source": [
    "from random import randint\n",
    "\n",
    "quadrado = lambda numero : numero ** 2\n",
    "\n",
    "numero = randint(1,10)\n",
    "\n",
    "print(numero, quadrado(numero))"
   ]
  },
  {
   "cell_type": "markdown",
   "id": "1bbe7872",
   "metadata": {},
   "source": [
    "#### Exercício 2:\n",
    "Escreva uma expressão lambda que verifique se um número é par.\n"
   ]
  },
  {
   "cell_type": "code",
   "execution_count": 24,
   "id": "7abd8103",
   "metadata": {},
   "outputs": [
    {
     "name": "stdout",
     "output_type": "stream",
     "text": [
      "9 é impar\n"
     ]
    }
   ],
   "source": [
    "from random import randint\n",
    "\n",
    "verifica_impar = lambda numero : print(f'{numero} é par') if numero % 2 == 0 else print(f'{numero} é impar')\n",
    "\n",
    "verifica_impar(randint(1,10))"
   ]
  },
  {
   "cell_type": "markdown",
   "id": "6437f95e",
   "metadata": {},
   "source": [
    "#### Exercício 3:\n",
    "Crie uma expressão lambda que calcule a média de três números."
   ]
  },
  {
   "cell_type": "code",
   "execution_count": 33,
   "id": "aa73c6e5",
   "metadata": {},
   "outputs": [
    {
     "name": "stdout",
     "output_type": "stream",
     "text": [
      "A media entre [11, 30, 80] é 40.33\n"
     ]
    }
   ],
   "source": [
    "from random import randint\n",
    "from statistics import mean\n",
    "\n",
    "media = lambda lista: mean(lista)\n",
    "\n",
    "numeros = [randint(1,100) for i in range(3)]\n",
    "\n",
    "print(f'A media entre {numeros} é {media(numeros):0.2f}')"
   ]
  }
 ],
 "metadata": {
  "kernelspec": {
   "display_name": "Python 3 (ipykernel)",
   "language": "python",
   "name": "python3"
  },
  "language_info": {
   "codemirror_mode": {
    "name": "ipython",
    "version": 3
   },
   "file_extension": ".py",
   "mimetype": "text/x-python",
   "name": "python",
   "nbconvert_exporter": "python",
   "pygments_lexer": "ipython3",
   "version": "3.11.3"
  }
 },
 "nbformat": 4,
 "nbformat_minor": 5
}
